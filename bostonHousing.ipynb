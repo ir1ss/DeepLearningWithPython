{
  "nbformat": 4,
  "nbformat_minor": 0,
  "metadata": {
    "accelerator": "GPU",
    "colab": {
      "name": "bostonHousing.ipynb",
      "provenance": [],
      "collapsed_sections": [],
      "authorship_tag": "ABX9TyPM+DdHwJIEt2sJ9exCyQyB",
      "include_colab_link": true
    },
    "kernelspec": {
      "display_name": "Python 3",
      "name": "python3"
    }
  },
  "cells": [
    {
      "cell_type": "markdown",
      "metadata": {
        "id": "view-in-github",
        "colab_type": "text"
      },
      "source": [
        "<a href=\"https://colab.research.google.com/github/ir1ss/DeepLearningWithPython/blob/main/bostonHousing.ipynb\" target=\"_parent\"><img src=\"https://colab.research.google.com/assets/colab-badge.svg\" alt=\"Open In Colab\"/></a>"
      ]
    },
    {
      "cell_type": "code",
      "metadata": {
        "colab": {
          "base_uri": "https://localhost:8080/"
        },
        "id": "ui4im9utFthU",
        "outputId": "c5b9f7b6-a5a4-4140-e7b4-2cbb6cc2b67a"
      },
      "source": [
        "from keras.datasets import boston_housing\r\n",
        "\r\n",
        "(train_data, train_targets), (test_data, test_target) = boston_housing.load_data()"
      ],
      "execution_count": null,
      "outputs": [
        {
          "output_type": "stream",
          "text": [
            "Downloading data from https://storage.googleapis.com/tensorflow/tf-keras-datasets/boston_housing.npz\n",
            "57344/57026 [==============================] - 0s 0us/step\n"
          ],
          "name": "stdout"
        }
      ]
    },
    {
      "cell_type": "code",
      "metadata": {
        "colab": {
          "base_uri": "https://localhost:8080/"
        },
        "id": "oT-Ou288F6YF",
        "outputId": "0dc7ab4c-08ff-464e-ba10-b95a4a6eb07a"
      },
      "source": [
        "train_data.shape"
      ],
      "execution_count": null,
      "outputs": [
        {
          "output_type": "execute_result",
          "data": {
            "text/plain": [
              "(404, 13)"
            ]
          },
          "metadata": {
            "tags": []
          },
          "execution_count": 2
        }
      ]
    },
    {
      "cell_type": "code",
      "metadata": {
        "colab": {
          "base_uri": "https://localhost:8080/"
        },
        "id": "vB0sgiVzF8hx",
        "outputId": "de3b256a-9c71-4769-f6e8-a0c9a0d3ee33"
      },
      "source": [
        "test_data.shape"
      ],
      "execution_count": null,
      "outputs": [
        {
          "output_type": "execute_result",
          "data": {
            "text/plain": [
              "(102, 13)"
            ]
          },
          "metadata": {
            "tags": []
          },
          "execution_count": 3
        }
      ]
    },
    {
      "cell_type": "code",
      "metadata": {
        "id": "GXvxSopRGQWY"
      },
      "source": [
        "mean = train_data.mean(axis = 0)\r\n",
        "train_data -= mean\r\n",
        "std = train_data.std(axis = 0)\r\n",
        "train_data /= std\r\n",
        "\r\n",
        "test_data -= mean\r\n",
        "test_data /= std"
      ],
      "execution_count": null,
      "outputs": []
    },
    {
      "cell_type": "code",
      "metadata": {
        "id": "RYeQOl7-GsSw"
      },
      "source": [
        "from keras import models\r\n",
        "from keras import layers\r\n",
        "\r\n",
        "def build_model():\r\n",
        "  model = models.Sequential()\r\n",
        "  model.add(layers.Dense(64, activation='relu', input_shape=(train_data.shape[1],)))\r\n",
        "  model.add(layers.Dense(64, activation='relu'))\r\n",
        "  model.add(layers.Dense(1))\r\n",
        "  model.compile(optimizer='rmsprop', loss='mse', metrics=['mae'])\r\n",
        "  return model"
      ],
      "execution_count": null,
      "outputs": []
    },
    {
      "cell_type": "code",
      "metadata": {
        "id": "68FKoBnyLMRA"
      },
      "source": [
        "import numpy as np\r\n",
        "\r\n",
        "k = 4\r\n",
        "num_val_samples = len(train_data) // k\r\n",
        "num_epochs = 10\r\n",
        "all_scores = []"
      ],
      "execution_count": null,
      "outputs": []
    },
    {
      "cell_type": "code",
      "metadata": {
        "colab": {
          "base_uri": "https://localhost:8080/"
        },
        "id": "FEDeQMh0OF9O",
        "outputId": "269c6738-4090-412a-cdad-59a8b8b94de5"
      },
      "source": [
        "for i in range(k):\r\n",
        "  print('processing fold #', i)\r\n",
        "  val_data = train_data[i * num_val_samples: (i+1) * num_val_samples]\r\n",
        "  val_targets = train_targets[i * num_val_samples: (i+1) * num_val_samples]\r\n",
        "\r\n",
        "  partial_train_data = np.concatenate(\r\n",
        "      [train_data[:i * num_val_samples],\r\n",
        "      train_data[(i+1) * num_val_samples:]],\r\n",
        "      axis = 0\r\n",
        "  )\r\n",
        "  partial_train_targets = np.concatenate(\r\n",
        "      [train_targets[:i * num_val_samples],\r\n",
        "      train_targets[(i+1) * num_val_samples:]],\r\n",
        "      axis = 0\r\n",
        "  )\r\n",
        "  model = build_model()\r\n",
        "  model.fit(\r\n",
        "      partial_train_data,\r\n",
        "      partial_train_targets,\r\n",
        "      epochs = num_epochs,\r\n",
        "      batch_size = 1,\r\n",
        "      verbose = 0\r\n",
        "  )\r\n",
        "  val_mse, val_mae = model.evaluate(val_data, val_targets, verbose=0)\r\n",
        "  all_scores.append(val_mae)"
      ],
      "execution_count": null,
      "outputs": [
        {
          "output_type": "stream",
          "text": [
            "processing fold # 0\n",
            "processing fold # 1\n",
            "processing fold # 2\n",
            "processing fold # 3\n"
          ],
          "name": "stdout"
        }
      ]
    },
    {
      "cell_type": "code",
      "metadata": {
        "colab": {
          "base_uri": "https://localhost:8080/"
        },
        "id": "98TcdQqBS92W",
        "outputId": "3e64047b-9bcc-4673-82c8-67e9d258bfb5"
      },
      "source": [
        "all_scores"
      ],
      "execution_count": null,
      "outputs": [
        {
          "output_type": "execute_result",
          "data": {
            "text/plain": [
              "[2.2513532638549805, 2.5787713527679443, 2.6621317863464355, 2.766429901123047]"
            ]
          },
          "metadata": {
            "tags": []
          },
          "execution_count": 8
        }
      ]
    },
    {
      "cell_type": "code",
      "metadata": {
        "colab": {
          "base_uri": "https://localhost:8080/"
        },
        "id": "UFVM3NvOTBrT",
        "outputId": "7ac69040-b0ce-407f-85f9-0f4a7dd56e7a"
      },
      "source": [
        "np.mean(all_scores)"
      ],
      "execution_count": null,
      "outputs": [
        {
          "output_type": "execute_result",
          "data": {
            "text/plain": [
              "2.564671576023102"
            ]
          },
          "metadata": {
            "tags": []
          },
          "execution_count": 9
        }
      ]
    },
    {
      "cell_type": "code",
      "metadata": {
        "colab": {
          "base_uri": "https://localhost:8080/"
        },
        "id": "ewn8kbZJTQOV",
        "outputId": "44d94986-be4d-4e24-d524-133102e74940"
      },
      "source": [
        "num_epochs = 500\r\n",
        "all_mae_history = []\r\n",
        "for i in range(k):\r\n",
        "  print('processing fold #', i)\r\n",
        "  val_data = train_data[i * num_val_samples: (i+1) * num_val_samples]\r\n",
        "  val_targets = train_targets[i * num_val_samples: (i+1) * num_val_samples]\r\n",
        "\r\n",
        "  partial_train_data = np.concatenate(\r\n",
        "      [train_data[:i * num_val_samples],\r\n",
        "      train_data[(i+1) * num_val_samples:]],\r\n",
        "      axis = 0\r\n",
        "  )\r\n",
        "  partial_train_targets = np.concatenate(\r\n",
        "      [train_targets[:i * num_val_samples],\r\n",
        "      train_targets[(i+1) * num_val_samples:]],\r\n",
        "      axis = 0\r\n",
        "  )\r\n",
        "  model = build_model()\r\n",
        "  history = model.fit(\r\n",
        "      partial_train_data,\r\n",
        "      partial_train_targets,\r\n",
        "      epochs = num_epochs,\r\n",
        "      validation_data = (val_data, val_targets),\r\n",
        "      batch_size = 1,\r\n",
        "      verbose = 0\r\n",
        "  )\r\n",
        "  mae_history = history.history['val_mae']\r\n",
        "  all_mae_history.append(mae_history)"
      ],
      "execution_count": 19,
      "outputs": [
        {
          "output_type": "stream",
          "text": [
            "processing fold # 0\n",
            "processing fold # 1\n",
            "processing fold # 2\n",
            "processing fold # 3\n"
          ],
          "name": "stdout"
        }
      ]
    },
    {
      "cell_type": "code",
      "metadata": {
        "colab": {
          "base_uri": "https://localhost:8080/"
        },
        "id": "pDKqNwbReY9G",
        "outputId": "67da612b-195e-43b9-8efc-cb27c8b2dc90"
      },
      "source": [
        "len(all_mae_history)"
      ],
      "execution_count": 21,
      "outputs": [
        {
          "output_type": "execute_result",
          "data": {
            "text/plain": [
              "4"
            ]
          },
          "metadata": {
            "tags": []
          },
          "execution_count": 21
        }
      ]
    },
    {
      "cell_type": "code",
      "metadata": {
        "colab": {
          "base_uri": "https://localhost:8080/"
        },
        "id": "KXANE7F6e4Fr",
        "outputId": "20a9250d-0312-4ac9-ee5d-a4352c12e2bc"
      },
      "source": [
        "len(all_mae_history[0])"
      ],
      "execution_count": 22,
      "outputs": [
        {
          "output_type": "execute_result",
          "data": {
            "text/plain": [
              "500"
            ]
          },
          "metadata": {
            "tags": []
          },
          "execution_count": 22
        }
      ]
    },
    {
      "cell_type": "code",
      "metadata": {
        "id": "_2pz8D8Fe7d-"
      },
      "source": [
        "average_mae_history = [\r\n",
        "    np.mean([x[i] for x in all_mae_history]) for i in range(num_epochs)\r\n",
        "]"
      ],
      "execution_count": 42,
      "outputs": []
    },
    {
      "cell_type": "code",
      "metadata": {
        "colab": {
          "base_uri": "https://localhost:8080/"
        },
        "id": "jxoSrKQifnlV",
        "outputId": "3d3512ef-42bf-49ed-9a39-53b349c65680"
      },
      "source": [
        "len(average_mae_history)"
      ],
      "execution_count": 43,
      "outputs": [
        {
          "output_type": "execute_result",
          "data": {
            "text/plain": [
              "500"
            ]
          },
          "metadata": {
            "tags": []
          },
          "execution_count": 43
        }
      ]
    },
    {
      "cell_type": "code",
      "metadata": {
        "colab": {
          "base_uri": "https://localhost:8080/",
          "height": 279
        },
        "id": "sHFj72spf_vj",
        "outputId": "99b25995-1d68-4352-cff9-27fe65ee87d9"
      },
      "source": [
        "import matplotlib.pyplot as plt\r\n",
        "\r\n",
        "plt.plot(range(1, len(average_mae_history) + 1), average_mae_history)\r\n",
        "plt.xlabel('Epochs')\r\n",
        "plt.ylabel('Validation MAE')\r\n",
        "plt.show()"
      ],
      "execution_count": 44,
      "outputs": [
        {
          "output_type": "display_data",
          "data": {
            "image/png": "[encoded data removed]",
            "text/plain": [
              "<Figure size 432x288 with 1 Axes>"
            ]
          },
          "metadata": {
            "tags": [],
            "needs_background": "light"
          }
        }
      ]
    },
    {
      "cell_type": "code",
      "metadata": {
        "id": "Ard32p6cl4qH"
      },
      "source": [
        "def smooth_curve(points, factor=0.9):\r\n",
        "  smoothed_points = []\r\n",
        "  for point in points:\r\n",
        "    if smoothed_points:\r\n",
        "      previous = smoothed_points[-1]\r\n",
        "      smoothed_points.append(previous * factor + point * (1 - factor))\r\n",
        "    else:\r\n",
        "      smoothed_points.append(point)\r\n",
        "  return smoothed_points"
      ],
      "execution_count": 47,
      "outputs": []
    },
    {
      "cell_type": "code",
      "metadata": {
        "id": "6eNN4Q8qnOD2"
      },
      "source": [
        "smooth_mae_history = smooth_curve(average_mae_history[10:])"
      ],
      "execution_count": 48,
      "outputs": []
    },
    {
      "cell_type": "code",
      "metadata": {
        "colab": {
          "base_uri": "https://localhost:8080/",
          "height": 279
        },
        "id": "ZNFYr6lknVs_",
        "outputId": "ca2f3396-9151-4de4-8b3e-4b715a2a9638"
      },
      "source": [
        "plt.plot(range(1, len(smooth_mae_history) + 1), smooth_mae_history)\r\n",
        "plt.xlabel('Epochs')\r\n",
        "plt.ylabel('Validation MAE')\r\n",
        "plt.show()"
      ],
      "execution_count": 49,
      "outputs": [
        {
          "output_type": "display_data",
          "data": {
            "image/png": "[encoded data removed]",
            "text/plain": [
              "<Figure size 432x288 with 1 Axes>"
            ]
          },
          "metadata": {
            "tags": [],
            "needs_background": "light"
          }
        }
      ]
    },
    {
      "cell_type": "code",
      "metadata": {
        "colab": {
          "base_uri": "https://localhost:8080/"
        },
        "id": "1MVeBPufnxHU",
        "outputId": "2a0aef5e-bb75-4019-f541-9929deb6ef56"
      },
      "source": [
        "model = build_model()\r\n",
        "model.fit(\r\n",
        "    train_data,\r\n",
        "    train_targets,\r\n",
        "    epochs=80,\r\n",
        "    batch_size=16,\r\n",
        "    verbose=0\r\n",
        ")"
      ],
      "execution_count": 70,
      "outputs": [
        {
          "output_type": "execute_result",
          "data": {
            "text/plain": [
              "<tensorflow.python.keras.callbacks.History at 0x7ffad8807210>"
            ]
          },
          "metadata": {
            "tags": []
          },
          "execution_count": 70
        }
      ]
    },
    {
      "cell_type": "code",
      "metadata": {
        "colab": {
          "base_uri": "https://localhost:8080/"
        },
        "id": "gKfP27fLom-N",
        "outputId": "7b83b2a4-d4bb-48bb-eba8-9ee37a38ee54"
      },
      "source": [
        "test_mse_score, test_mae_score = model.evaluate(test_data, test_target)"
      ],
      "execution_count": 71,
      "outputs": [
        {
          "output_type": "stream",
          "text": [
            "4/4 [==============================] - 0s 3ms/step - loss: 17.9600 - mae: 2.6471\n"
          ],
          "name": "stdout"
        }
      ]
    }
  ]
}