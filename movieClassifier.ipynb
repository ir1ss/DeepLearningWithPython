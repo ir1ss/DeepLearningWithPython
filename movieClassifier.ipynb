{
  "nbformat": 4,
  "nbformat_minor": 0,
  "metadata": {
    "colab": {
      "name": "movieClassifier.ipynb",
      "provenance": [],
      "collapsed_sections": [],
      "authorship_tag": "ABX9TyOe58uso9feDznctiPOrd5+",
      "include_colab_link": true
    },
    "kernelspec": {
      "name": "python3",
      "display_name": "Python 3"
    }
  },
  "cells": [
    {
      "cell_type": "markdown",
      "metadata": {
        "id": "view-in-github",
        "colab_type": "text"
      },
      "source": [
        "<a href=\"https://colab.research.google.com/github/ir1ss/DeepLearningWithPython/blob/main/movieClassifier.ipynb\" target=\"_parent\"><img src=\"https://colab.research.google.com/assets/colab-badge.svg\" alt=\"Open In Colab\"/></a>"
      ]
    },
    {
      "cell_type": "code",
      "metadata": {
        "id": "0ecpTh17wobU"
      },
      "source": [
        "from keras.datasets import imdb\r\n",
        "(train_data, train_labels), (test_data, test_labels) = imdb.load_data(num_words = 10000)"
      ],
      "execution_count": null,
      "outputs": []
    },
    {
      "cell_type": "code",
      "metadata": {
        "id": "HAyzMp1KyG_X"
      },
      "source": [
        "train_data[0]"
      ],
      "execution_count": null,
      "outputs": []
    },
    {
      "cell_type": "code",
      "metadata": {
        "colab": {
          "base_uri": "https://localhost:8080/"
        },
        "id": "qd-Iw14tyQ_Q",
        "outputId": "a2d97bad-e068-4d31-b6f7-531669365c9f"
      },
      "source": [
        "train_labels[0]"
      ],
      "execution_count": 8,
      "outputs": [
        {
          "output_type": "execute_result",
          "data": {
            "text/plain": [
              "1"
            ]
          },
          "metadata": {
            "tags": []
          },
          "execution_count": 8
        }
      ]
    },
    {
      "cell_type": "code",
      "metadata": {
        "colab": {
          "base_uri": "https://localhost:8080/"
        },
        "id": "dhvR760ZyXi_",
        "outputId": "bcf87028-d9c1-4cbc-9cc4-4a3470502c79"
      },
      "source": [
        "max([max(sequence) for sequence in train_data])"
      ],
      "execution_count": 9,
      "outputs": [
        {
          "output_type": "execute_result",
          "data": {
            "text/plain": [
              "9999"
            ]
          },
          "metadata": {
            "tags": []
          },
          "execution_count": 9
        }
      ]
    },
    {
      "cell_type": "code",
      "metadata": {
        "id": "TynlqvhOysOf"
      },
      "source": [
        "word_index = imdb.get_word_index()\r\n",
        "reverse_word_index = dict(\r\n",
        "    [(value, key) for (key, value) in word_index.items()]\r\n",
        ")\r\n",
        "decoded_review = ''.join(\r\n",
        "    [reverse_word_index.get(i - 3, '?') for i in train_data[0]]\r\n",
        ")"
      ],
      "execution_count": 9,
      "outputs": []
    },
    {
      "cell_type": "code",
      "metadata": {
        "id": "ezSvnRxK81q4"
      },
      "source": [
        "import numpy as np"
      ],
      "execution_count": 5,
      "outputs": []
    },
    {
      "cell_type": "code",
      "metadata": {
        "colab": {
          "base_uri": "https://localhost:8080/"
        },
        "id": "EXqLqrEN-8RD",
        "outputId": "82572a2b-916f-4c1f-8108-b1b09b3edd9b"
      },
      "source": [
        "def vectorize_sequences(sequences, dimension=10000):\r\n",
        "    # Create an all-zero matrix of shape (len(sequences), dimension)\r\n",
        "    results = np.zeros((len(sequences), dimension))\r\n",
        "    for i, sequence in enumerate(sequences):\r\n",
        "       results[i, sequence] = 1.  # set specific indices of results[i] to 1s\r\n",
        "    return results\r\n",
        "\r\n",
        "(train_data, train_labels), (test_data, test_labels) = imdb.load_data(num_words=10000)\r\n",
        "\r\n",
        "x_train = vectorize_sequences(train_data)"
      ],
      "execution_count": 16,
      "outputs": [
        {
          "output_type": "stream",
          "text": [
            "<string>:6: VisibleDeprecationWarning: Creating an ndarray from ragged nested sequences (which is a list-or-tuple of lists-or-tuples-or ndarrays with different lengths or shapes) is deprecated. If you meant to do this, you must specify 'dtype=object' when creating the ndarray\n",
            "/usr/local/lib/python3.7/dist-packages/tensorflow/python/keras/datasets/imdb.py:159: VisibleDeprecationWarning: Creating an ndarray from ragged nested sequences (which is a list-or-tuple of lists-or-tuples-or ndarrays with different lengths or shapes) is deprecated. If you meant to do this, you must specify 'dtype=object' when creating the ndarray\n",
            "  x_train, y_train = np.array(xs[:idx]), np.array(labels[:idx])\n",
            "/usr/local/lib/python3.7/dist-packages/tensorflow/python/keras/datasets/imdb.py:160: VisibleDeprecationWarning: Creating an ndarray from ragged nested sequences (which is a list-or-tuple of lists-or-tuples-or ndarrays with different lengths or shapes) is deprecated. If you meant to do this, you must specify 'dtype=object' when creating the ndarray\n",
            "  x_test, y_test = np.array(xs[idx:]), np.array(labels[idx:])\n"
          ],
          "name": "stderr"
        }
      ]
    },
    {
      "cell_type": "code",
      "metadata": {
        "colab": {
          "base_uri": "https://localhost:8080/"
        },
        "id": "VN5mjCSS_B4J",
        "outputId": "d314510b-c8dc-4221-c853-f4e3ff95d69b"
      },
      "source": [
        "x_train[0]"
      ],
      "execution_count": 17,
      "outputs": [
        {
          "output_type": "execute_result",
          "data": {
            "text/plain": [
              "array([0., 1., 1., ..., 0., 0., 0.])"
            ]
          },
          "metadata": {
            "tags": []
          },
          "execution_count": 17
        }
      ]
    },
    {
      "cell_type": "code",
      "metadata": {
        "id": "ou_MWhPm_GRj"
      },
      "source": [
        "x_test = vectorize_sequences(test_data)"
      ],
      "execution_count": 18,
      "outputs": []
    },
    {
      "cell_type": "code",
      "metadata": {
        "colab": {
          "base_uri": "https://localhost:8080/"
        },
        "id": "cHHH0nqZ_K87",
        "outputId": "ad15d071-b2d9-4aae-d0f5-0cda2f9690ff"
      },
      "source": [
        "x_test[0]"
      ],
      "execution_count": 19,
      "outputs": [
        {
          "output_type": "execute_result",
          "data": {
            "text/plain": [
              "array([0., 1., 1., ..., 0., 0., 0.])"
            ]
          },
          "metadata": {
            "tags": []
          },
          "execution_count": 19
        }
      ]
    },
    {
      "cell_type": "code",
      "metadata": {
        "id": "XPdalcjfCz54"
      },
      "source": [
        "y_train = np.asarray(train_labels).astype('float32')"
      ],
      "execution_count": 20,
      "outputs": []
    },
    {
      "cell_type": "code",
      "metadata": {
        "id": "rTf0-B8RDKgO"
      },
      "source": [
        "y_test = np.asarray(test_labels).astype('float32')"
      ],
      "execution_count": 21,
      "outputs": []
    },
    {
      "cell_type": "code",
      "metadata": {
        "id": "EXaBRVMsGNTv"
      },
      "source": [
        "a = np.zeros((3, 3))"
      ],
      "execution_count": 23,
      "outputs": []
    },
    {
      "cell_type": "code",
      "metadata": {
        "colab": {
          "base_uri": "https://localhost:8080/"
        },
        "id": "w4v64XsdGW92",
        "outputId": "73c4ed68-9528-4e25-c3f4-ed52b8ea9343"
      },
      "source": [
        "a"
      ],
      "execution_count": 24,
      "outputs": [
        {
          "output_type": "execute_result",
          "data": {
            "text/plain": [
              "array([[0., 0., 0.],\n",
              "       [0., 0., 0.],\n",
              "       [0., 0., 0.]])"
            ]
          },
          "metadata": {
            "tags": []
          },
          "execution_count": 24
        }
      ]
    },
    {
      "cell_type": "code",
      "metadata": {
        "id": "vcCnLN9_GYSx"
      },
      "source": [
        "b = np.asarray(a)"
      ],
      "execution_count": 25,
      "outputs": []
    },
    {
      "cell_type": "code",
      "metadata": {
        "colab": {
          "base_uri": "https://localhost:8080/"
        },
        "id": "0pGmU1mNGcPt",
        "outputId": "c94dfb3d-1da9-4f8c-9788-f23c36291a85"
      },
      "source": [
        "b"
      ],
      "execution_count": 26,
      "outputs": [
        {
          "output_type": "execute_result",
          "data": {
            "text/plain": [
              "array([[0., 0., 0.],\n",
              "       [0., 0., 0.],\n",
              "       [0., 0., 0.]])"
            ]
          },
          "metadata": {
            "tags": []
          },
          "execution_count": 26
        }
      ]
    },
    {
      "cell_type": "code",
      "metadata": {
        "colab": {
          "base_uri": "https://localhost:8080/"
        },
        "id": "aNtUn629GeHB",
        "outputId": "21e0aa9b-ab4e-4135-e458-662d4773e699"
      },
      "source": [
        "a[0][0] = 1\r\n",
        "a"
      ],
      "execution_count": 27,
      "outputs": [
        {
          "output_type": "execute_result",
          "data": {
            "text/plain": [
              "array([[1., 0., 0.],\n",
              "       [0., 0., 0.],\n",
              "       [0., 0., 0.]])"
            ]
          },
          "metadata": {
            "tags": []
          },
          "execution_count": 27
        }
      ]
    },
    {
      "cell_type": "code",
      "metadata": {
        "colab": {
          "base_uri": "https://localhost:8080/"
        },
        "id": "s3R2nE0xGgzg",
        "outputId": "7b615b27-b93d-43a7-f675-0133adf22cee"
      },
      "source": [
        "b"
      ],
      "execution_count": 28,
      "outputs": [
        {
          "output_type": "execute_result",
          "data": {
            "text/plain": [
              "array([[1., 0., 0.],\n",
              "       [0., 0., 0.],\n",
              "       [0., 0., 0.]])"
            ]
          },
          "metadata": {
            "tags": []
          },
          "execution_count": 28
        }
      ]
    },
    {
      "cell_type": "code",
      "metadata": {
        "id": "ZSRJma-QJGK1"
      },
      "source": [
        "from keras import models\r\n",
        "from keras import layers\r\n",
        "\r\n",
        "model = models.Sequential()\r\n",
        "model.add(layers.Dense(16, activation='relu', input_shape=(10000,)))\r\n",
        "model.add(layers.Dense(16, activation='relu'))\r\n",
        "model.add(layers.Dense(1, activation='sigmoid'))"
      ],
      "execution_count": 31,
      "outputs": []
    },
    {
      "cell_type": "code",
      "metadata": {
        "id": "9EASGePvLGwp"
      },
      "source": [
        "model.compile(\r\n",
        "    optimizer='rmsprop',\r\n",
        "    loss='binary_crossentropy',\r\n",
        "    metrics=['accuracy'] \r\n",
        ")"
      ],
      "execution_count": 32,
      "outputs": []
    },
    {
      "cell_type": "code",
      "metadata": {
        "id": "2ZRG7Y2vLy0l"
      },
      "source": [
        "x_val = x_train[:10000]\r\n",
        "partial_x_train = x_train[10000:]"
      ],
      "execution_count": 33,
      "outputs": []
    },
    {
      "cell_type": "code",
      "metadata": {
        "id": "XiFcMT0XMjg2"
      },
      "source": [
        "y_val = y_train[:10000]\r\n",
        "partial_y_train = y_train[10000:]"
      ],
      "execution_count": 34,
      "outputs": []
    },
    {
      "cell_type": "code",
      "metadata": {
        "colab": {
          "base_uri": "https://localhost:8080/"
        },
        "id": "C9UaHfQ5MvPC",
        "outputId": "d1ee3817-3eb9-4c42-8e69-9ad723ca0fed"
      },
      "source": [
        "history = model.fit(\r\n",
        "    partial_x_train,\r\n",
        "    partial_y_train,\r\n",
        "    epochs = 20,\r\n",
        "    batch_size = 512,\r\n",
        "    validation_data = (x_val, y_val)\r\n",
        ")"
      ],
      "execution_count": 36,
      "outputs": [
        {
          "output_type": "stream",
          "text": [
            "Epoch 1/20\n",
            "30/30 [==============================] - 4s 103ms/step - loss: 0.5916 - accuracy: 0.7107 - val_loss: 0.4080 - val_accuracy: 0.8499\n",
            "Epoch 2/20\n",
            "30/30 [==============================] - 1s 31ms/step - loss: 0.3282 - accuracy: 0.9027 - val_loss: 0.3072 - val_accuracy: 0.8867\n",
            "Epoch 3/20\n",
            "30/30 [==============================] - 1s 31ms/step - loss: 0.2314 - accuracy: 0.9278 - val_loss: 0.2791 - val_accuracy: 0.8912\n",
            "Epoch 4/20\n",
            "30/30 [==============================] - 1s 31ms/step - loss: 0.1785 - accuracy: 0.9425 - val_loss: 0.2826 - val_accuracy: 0.8873\n",
            "Epoch 5/20\n",
            "30/30 [==============================] - 1s 31ms/step - loss: 0.1465 - accuracy: 0.9525 - val_loss: 0.2802 - val_accuracy: 0.8887\n",
            "Epoch 6/20\n",
            "30/30 [==============================] - 1s 31ms/step - loss: 0.1237 - accuracy: 0.9635 - val_loss: 0.2968 - val_accuracy: 0.8833\n",
            "Epoch 7/20\n",
            "30/30 [==============================] - 1s 31ms/step - loss: 0.0959 - accuracy: 0.9726 - val_loss: 0.3256 - val_accuracy: 0.8770\n",
            "Epoch 8/20\n",
            "30/30 [==============================] - 1s 32ms/step - loss: 0.0803 - accuracy: 0.9782 - val_loss: 0.3291 - val_accuracy: 0.8826\n",
            "Epoch 9/20\n",
            "30/30 [==============================] - 1s 31ms/step - loss: 0.0669 - accuracy: 0.9824 - val_loss: 0.3616 - val_accuracy: 0.8801\n",
            "Epoch 10/20\n",
            "30/30 [==============================] - 1s 31ms/step - loss: 0.0563 - accuracy: 0.9866 - val_loss: 0.3795 - val_accuracy: 0.8740\n",
            "Epoch 11/20\n",
            "30/30 [==============================] - 1s 32ms/step - loss: 0.0468 - accuracy: 0.9906 - val_loss: 0.4019 - val_accuracy: 0.8765\n",
            "Epoch 12/20\n",
            "30/30 [==============================] - 1s 32ms/step - loss: 0.0360 - accuracy: 0.9930 - val_loss: 0.4287 - val_accuracy: 0.8716\n",
            "Epoch 13/20\n",
            "30/30 [==============================] - 1s 31ms/step - loss: 0.0295 - accuracy: 0.9948 - val_loss: 0.5776 - val_accuracy: 0.8533\n",
            "Epoch 14/20\n",
            "30/30 [==============================] - 1s 31ms/step - loss: 0.0272 - accuracy: 0.9957 - val_loss: 0.5548 - val_accuracy: 0.8553\n",
            "Epoch 15/20\n",
            "30/30 [==============================] - 1s 31ms/step - loss: 0.0189 - accuracy: 0.9979 - val_loss: 0.5245 - val_accuracy: 0.8707\n",
            "Epoch 16/20\n",
            "30/30 [==============================] - 1s 31ms/step - loss: 0.0151 - accuracy: 0.9981 - val_loss: 0.5562 - val_accuracy: 0.8664\n",
            "Epoch 17/20\n",
            "30/30 [==============================] - 1s 31ms/step - loss: 0.0101 - accuracy: 0.9993 - val_loss: 0.5860 - val_accuracy: 0.8681\n",
            "Epoch 18/20\n",
            "30/30 [==============================] - 1s 31ms/step - loss: 0.0090 - accuracy: 0.9995 - val_loss: 0.6212 - val_accuracy: 0.8667\n",
            "Epoch 19/20\n",
            "30/30 [==============================] - 1s 32ms/step - loss: 0.0070 - accuracy: 0.9994 - val_loss: 0.6554 - val_accuracy: 0.8668\n",
            "Epoch 20/20\n",
            "30/30 [==============================] - 1s 31ms/step - loss: 0.0048 - accuracy: 0.9997 - val_loss: 0.6836 - val_accuracy: 0.8662\n"
          ],
          "name": "stdout"
        }
      ]
    },
    {
      "cell_type": "code",
      "metadata": {
        "colab": {
          "base_uri": "https://localhost:8080/"
        },
        "id": "laV0gMZhNntc",
        "outputId": "029f3f29-852c-40b3-c5f1-8a6a0d15ecb2"
      },
      "source": [
        "history_dict = history.history\r\n",
        "history_dict.keys()"
      ],
      "execution_count": 38,
      "outputs": [
        {
          "output_type": "execute_result",
          "data": {
            "text/plain": [
              "dict_keys(['loss', 'accuracy', 'val_loss', 'val_accuracy'])"
            ]
          },
          "metadata": {
            "tags": []
          },
          "execution_count": 38
        }
      ]
    },
    {
      "cell_type": "code",
      "metadata": {
        "colab": {
          "base_uri": "https://localhost:8080/",
          "height": 295
        },
        "id": "82I84AzEN51f",
        "outputId": "35646bcb-f7c7-4730-8c93-aeb36b4637c1"
      },
      "source": [
        "import matplotlib.pyplot as plt\r\n",
        "\r\n",
        "history_dict = history.history\r\n",
        "loss_values = history_dict['loss']\r\n",
        "val_loss_values = history_dict['val_loss']\r\n",
        "\r\n",
        "epochs = range(1, len(loss_values) + 1)\r\n",
        "\r\n",
        "plt.plot(epochs, loss_values, 'bo', label='Training loss') #bo表示以蓝色圆点的形式展示\r\n",
        "plt.plot(epochs, val_loss_values, 'b', label='Validation loss') #b表示蓝色实线\r\n",
        "plt.title('Training and validation loss')\r\n",
        "plt.xlabel('Epochs')\r\n",
        "plt.ylabel('Loss')\r\n",
        "plt.legend()\r\n",
        "\r\n",
        "plt.show()"
      ],
      "execution_count": 39,
      "outputs": [
        {
          "output_type": "display_data",
          "data": {
            "image/png": "[encoded data removed]",
            "text/plain": [
              "<Figure size 432x288 with 1 Axes>"
            ]
          },
          "metadata": {
            "tags": [],
            "needs_background": "light"
          }
        }
      ]
    },
    {
      "cell_type": "code",
      "metadata": {
        "colab": {
          "base_uri": "https://localhost:8080/"
        },
        "id": "7c1jFUd7UU2U",
        "outputId": "0aa127ab-0625-4e44-f555-8d6205718a98"
      },
      "source": [
        "model.fit(\r\n",
        "    partial_x_train,\r\n",
        "    partial_y_train,\r\n",
        "    epochs = 4,\r\n",
        "    batch_size = 512,\r\n",
        "    validation_data = (x_val, y_val)\r\n",
        ")"
      ],
      "execution_count": 40,
      "outputs": [
        {
          "output_type": "stream",
          "text": [
            "Epoch 1/4\n",
            "30/30 [==============================] - 1s 42ms/step - loss: 0.0072 - accuracy: 0.9988 - val_loss: 0.7197 - val_accuracy: 0.8657\n",
            "Epoch 2/4\n",
            "30/30 [==============================] - 1s 31ms/step - loss: 0.0029 - accuracy: 0.9999 - val_loss: 0.7480 - val_accuracy: 0.8644\n",
            "Epoch 3/4\n",
            "30/30 [==============================] - 1s 31ms/step - loss: 0.0082 - accuracy: 0.9981 - val_loss: 0.7820 - val_accuracy: 0.8640\n",
            "Epoch 4/4\n",
            "30/30 [==============================] - 1s 31ms/step - loss: 0.0018 - accuracy: 0.9999 - val_loss: 0.8040 - val_accuracy: 0.8645\n"
          ],
          "name": "stdout"
        },
        {
          "output_type": "execute_result",
          "data": {
            "text/plain": [
              "<tensorflow.python.keras.callbacks.History at 0x7ff9ccee6d90>"
            ]
          },
          "metadata": {
            "tags": []
          },
          "execution_count": 40
        }
      ]
    },
    {
      "cell_type": "code",
      "metadata": {
        "colab": {
          "base_uri": "https://localhost:8080/",
          "height": 295
        },
        "id": "fReL6_oAUh-B",
        "outputId": "f0b683ee-9e30-4832-bf7c-3a7e77abf647"
      },
      "source": [
        "plt.clf()\r\n",
        "acc = history_dict['accuracy']\r\n",
        "val_acc = history_dict['val_accuracy']\r\n",
        "\r\n",
        "plt.plot(epochs, acc, 'bo', label='Training acc') #bo表示以蓝色圆点的形式展示\r\n",
        "plt.plot(epochs, val_acc, 'b', label='Validation acc') #b表示蓝色实线\r\n",
        "plt.title('Training and validation accuracy')\r\n",
        "plt.xlabel('Epochs')\r\n",
        "plt.ylabel('Accuracy')\r\n",
        "plt.legend()\r\n",
        "\r\n",
        "plt.show()"
      ],
      "execution_count": 42,
      "outputs": [
        {
          "output_type": "display_data",
          "data": {
            "image/png": "[encoded data removed]",
            "text/plain": [
              "<Figure size 432x288 with 1 Axes>"
            ]
          },
          "metadata": {
            "tags": [],
            "needs_background": "light"
          }
        }
      ]
    },
    {
      "cell_type": "code",
      "metadata": {
        "colab": {
          "base_uri": "https://localhost:8080/"
        },
        "id": "ZITNCiq4VYU5",
        "outputId": "ae242ed8-da68-4d84-f73d-28d122740f9b"
      },
      "source": [
        "model.predict(x_test)"
      ],
      "execution_count": 43,
      "outputs": [
        {
          "output_type": "execute_result",
          "data": {
            "text/plain": [
              "array([[0.00395849],\n",
              "       [1.        ],\n",
              "       [0.99772906],\n",
              "       ...,\n",
              "       [0.00106472],\n",
              "       [0.0195998 ],\n",
              "       [0.88454777]], dtype=float32)"
            ]
          },
          "metadata": {
            "tags": []
          },
          "execution_count": 43
        }
      ]
    }
  ]
}